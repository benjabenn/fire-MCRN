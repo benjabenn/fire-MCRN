{
 "cells": [
  {
   "cell_type": "code",
   "execution_count": null,
   "metadata": {},
   "outputs": [],
   "source": [
    "from cell import *\n",
    "from matrix import *"
   ]
  },
  {
   "cell_type": "code",
   "execution_count": null,
   "metadata": {},
   "outputs": [],
   "source": [
    "matrix_size = (100, 100)\n",
    "ones_matrix = np.ones(matrix_size)\n",
    "twos_matrix = np.ones(matrix_size) * 2\n",
    "half_matrix = np.ones(matrix_size) * 0.5\n",
    "cell_matrix = Matrix(\n",
    "    twos_matrix, half_matrix, ones_matrix, ones_matrix, ones_matrix, ones_matrix, 1\n",
    ")\n",
    "\n",
    "\n",
    "data_list = cell_matrix.run_simulations(1000, 0, 0, True)"
   ]
  },
  {
   "cell_type": "code",
   "execution_count": null,
   "metadata": {},
   "outputs": [],
   "source": [
    "data_matrix = get_final_matrix_heatmap(data_list)"
   ]
  }
 ],
 "metadata": {
  "kernelspec": {
   "display_name": "Python 3",
   "language": "python",
   "name": "python3"
  },
  "language_info": {
   "codemirror_mode": {
    "name": "ipython",
    "version": 3
   },
   "file_extension": ".py",
   "mimetype": "text/x-python",
   "name": "python",
   "nbconvert_exporter": "python",
   "pygments_lexer": "ipython3",
   "version": "3.10.6"
  }
 },
 "nbformat": 4,
 "nbformat_minor": 2
}
