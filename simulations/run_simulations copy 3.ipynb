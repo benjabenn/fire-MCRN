{
 "cells": [
  {
   "cell_type": "code",
   "execution_count": 1,
   "metadata": {},
   "outputs": [],
   "source": [
    "from cell import *\n",
    "from matrix import *"
   ]
  },
  {
   "cell_type": "code",
   "execution_count": 2,
   "metadata": {},
   "outputs": [],
   "source": [
    "matrix_size = (50, 50)\n",
    "ones_matrix = np.ones(matrix_size)\n",
    "twos_matrix = np.ones(matrix_size) * 2\n",
    "data_matrix = Matrix.run_simple_parameter_sweep(100, 0, 100, 101, twos_matrix, 0, False, 0, 0, False)\n"
   ]
  },
  {
   "cell_type": "code",
   "execution_count": 3,
   "metadata": {},
   "outputs": [
    {
     "data": {
      "text/plain": [
       "{0.0: [<matrix.MatrixSimulationData at 0x1be05283e20>],\n",
       " 1.0: [<matrix.MatrixSimulationData at 0x1be05390a60>],\n",
       " 2.0: [<matrix.MatrixSimulationData at 0x1be0548c970>],\n",
       " 3.0: [<matrix.MatrixSimulationData at 0x1be053e88e0>],\n",
       " 4.0: [<matrix.MatrixSimulationData at 0x1be0537f730>],\n",
       " 5.0: [<matrix.MatrixSimulationData at 0x1be053e5c00>],\n",
       " 6.0: [<matrix.MatrixSimulationData at 0x1be053c4dc0>],\n",
       " 7.0: [<matrix.MatrixSimulationData at 0x1be05327700>],\n",
       " 8.0: [<matrix.MatrixSimulationData at 0x1be053a0910>],\n",
       " 9.0: [<matrix.MatrixSimulationData at 0x1be054c7790>],\n",
       " 10.0: [<matrix.MatrixSimulationData at 0x1be0545f7f0>],\n",
       " 11.0: [<matrix.MatrixSimulationData at 0x1be052bf850>],\n",
       " 12.0: [<matrix.MatrixSimulationData at 0x1be0530db10>],\n",
       " 13.0: [<matrix.MatrixSimulationData at 0x1be052cd930>],\n",
       " 14.0: [<matrix.MatrixSimulationData at 0x1be05447970>],\n",
       " 15.0: [<matrix.MatrixSimulationData at 0x1be052ec520>],\n",
       " 16.0: [<matrix.MatrixSimulationData at 0x1be64ed6cb0>],\n",
       " 17.0: [<matrix.MatrixSimulationData at 0x1be052ec6d0>],\n",
       " 18.0: [<matrix.MatrixSimulationData at 0x1be05445de0>],\n",
       " 19.0: [<matrix.MatrixSimulationData at 0x1be053d87f0>],\n",
       " 20.0: [<matrix.MatrixSimulationData at 0x1be0537d240>],\n",
       " 21.0: [<matrix.MatrixSimulationData at 0x1be053eb4f0>],\n",
       " 22.0: [<matrix.MatrixSimulationData at 0x1be053c6650>],\n",
       " 23.0: [<matrix.MatrixSimulationData at 0x1be05468940>],\n",
       " 24.0: [<matrix.MatrixSimulationData at 0x1be052ee7d0>],\n",
       " 25.0: [<matrix.MatrixSimulationData at 0x1be053e7820>],\n",
       " 26.0: [<matrix.MatrixSimulationData at 0x1be05411a80>],\n",
       " 27.0: [<matrix.MatrixSimulationData at 0x1be052f7490>],\n",
       " 28.0: [<matrix.MatrixSimulationData at 0x1be0540e650>],\n",
       " 29.0: [<matrix.MatrixSimulationData at 0x1be053321d0>],\n",
       " 30.0: [<matrix.MatrixSimulationData at 0x1be0532cee0>],\n",
       " 31.0: [<matrix.MatrixSimulationData at 0x1be05487760>],\n",
       " 32.0: [<matrix.MatrixSimulationData at 0x1be05431e70>],\n",
       " 33.0: [<matrix.MatrixSimulationData at 0x1be05311e40>],\n",
       " 34.0: [<matrix.MatrixSimulationData at 0x1be0539e140>],\n",
       " 35.0: [<matrix.MatrixSimulationData at 0x1be05321de0>],\n",
       " 36.0: [<matrix.MatrixSimulationData at 0x1be0537ff70>],\n",
       " 37.0: [<matrix.MatrixSimulationData at 0x1be052f74f0>],\n",
       " 38.0: [<matrix.MatrixSimulationData at 0x1be05476770>],\n",
       " 39.0: [<matrix.MatrixSimulationData at 0x1be05404460>],\n",
       " 40.0: [<matrix.MatrixSimulationData at 0x1be052d9b10>],\n",
       " 41.0: [<matrix.MatrixSimulationData at 0x1be0532ece0>],\n",
       " 42.0: [<matrix.MatrixSimulationData at 0x1be05431a80>],\n",
       " 43.0: [<matrix.MatrixSimulationData at 0x1be05339e40>],\n",
       " 44.0: [<matrix.MatrixSimulationData at 0x1be0540d7b0>],\n",
       " 45.0: [<matrix.MatrixSimulationData at 0x1be0535a380>],\n",
       " 46.0: [<matrix.MatrixSimulationData at 0x1be054370d0>],\n",
       " 47.0: [<matrix.MatrixSimulationData at 0x1be053e4880>],\n",
       " 48.0: [<matrix.MatrixSimulationData at 0x1be05428370>],\n",
       " 49.0: [<matrix.MatrixSimulationData at 0x1be05433340>],\n",
       " 50.0: [<matrix.MatrixSimulationData at 0x1be05441e70>],\n",
       " 51.0: [<matrix.MatrixSimulationData at 0x1be053124d0>],\n",
       " 52.0: [<matrix.MatrixSimulationData at 0x1be0533af50>],\n",
       " 53.0: [<matrix.MatrixSimulationData at 0x1be053d8820>],\n",
       " 54.0: [<matrix.MatrixSimulationData at 0x1be053c65f0>],\n",
       " 55.0: [<matrix.MatrixSimulationData at 0x1be05345810>],\n",
       " 56.0: [<matrix.MatrixSimulationData at 0x1be0537c430>],\n",
       " 57.0: [<matrix.MatrixSimulationData at 0x1be05351270>],\n",
       " 58.0: [<matrix.MatrixSimulationData at 0x1be052ee3e0>],\n",
       " 59.0: [<matrix.MatrixSimulationData at 0x1be052b9a20>],\n",
       " 60.0: [<matrix.MatrixSimulationData at 0x1be05474940>],\n",
       " 61.0: [<matrix.MatrixSimulationData at 0x1be053e5fc0>],\n",
       " 62.0: [<matrix.MatrixSimulationData at 0x1be053b5ff0>],\n",
       " 63.0: [<matrix.MatrixSimulationData at 0x1be05391240>],\n",
       " 64.0: [<matrix.MatrixSimulationData at 0x1be0530fe80>],\n",
       " 65.0: [<matrix.MatrixSimulationData at 0x1be05344b20>],\n",
       " 66.0: [<matrix.MatrixSimulationData at 0x1be053b9870>],\n",
       " 67.0: [<matrix.MatrixSimulationData at 0x1be054c5cf0>],\n",
       " 68.0: [<matrix.MatrixSimulationData at 0x1be054323b0>],\n",
       " 69.0: [<matrix.MatrixSimulationData at 0x1be052f6290>],\n",
       " 70.0: [<matrix.MatrixSimulationData at 0x1be053c28c0>],\n",
       " 71.0: [<matrix.MatrixSimulationData at 0x1be052ec490>],\n",
       " 72.0: [<matrix.MatrixSimulationData at 0x1be052ecdf0>],\n",
       " 73.0: [<matrix.MatrixSimulationData at 0x1be05328d60>],\n",
       " 74.0: [<matrix.MatrixSimulationData at 0x1be054437f0>],\n",
       " 75.0: [<matrix.MatrixSimulationData at 0x1be053e48b0>],\n",
       " 76.0: [<matrix.MatrixSimulationData at 0x1be0548caf0>],\n",
       " 77.0: [<matrix.MatrixSimulationData at 0x1be053443d0>],\n",
       " 78.0: [<matrix.MatrixSimulationData at 0x1be053ba8f0>],\n",
       " 79.0: [<matrix.MatrixSimulationData at 0x1be05391060>],\n",
       " 80.0: [<matrix.MatrixSimulationData at 0x1be0530eb00>],\n",
       " 81.0: [<matrix.MatrixSimulationData at 0x1be0548abc0>],\n",
       " 82.0: [<matrix.MatrixSimulationData at 0x1be053b7b80>],\n",
       " 83.0: [<matrix.MatrixSimulationData at 0x1be05329540>],\n",
       " 84.0: [<matrix.MatrixSimulationData at 0x1be053ce470>],\n",
       " 85.0: [<matrix.MatrixSimulationData at 0x1be05405a50>],\n",
       " 86.0: [<matrix.MatrixSimulationData at 0x1be05444520>],\n",
       " 87.0: [<matrix.MatrixSimulationData at 0x1be0532f4f0>],\n",
       " 88.0: [<matrix.MatrixSimulationData at 0x1be0548ee90>],\n",
       " 89.0: [<matrix.MatrixSimulationData at 0x1be054c5600>],\n",
       " 90.0: [<matrix.MatrixSimulationData at 0x1be053bb820>],\n",
       " 91.0: [<matrix.MatrixSimulationData at 0x1be052ba260>],\n",
       " 92.0: [<matrix.MatrixSimulationData at 0x1be0537ea70>],\n",
       " 93.0: [<matrix.MatrixSimulationData at 0x1be053d9960>],\n",
       " 94.0: [<matrix.MatrixSimulationData at 0x1be053bf8b0>],\n",
       " 95.0: [<matrix.MatrixSimulationData at 0x1be053ebf70>],\n",
       " 96.0: [<matrix.MatrixSimulationData at 0x1be0530c3d0>],\n",
       " 97.0: [<matrix.MatrixSimulationData at 0x1be054be260>],\n",
       " 98.0: [<matrix.MatrixSimulationData at 0x1be053c2bc0>],\n",
       " 99.0: [<matrix.MatrixSimulationData at 0x1be053259c0>],\n",
       " 100.0: [<matrix.MatrixSimulationData at 0x1be053a28c0>]}"
      ]
     },
     "execution_count": 3,
     "metadata": {},
     "output_type": "execute_result"
    }
   ],
   "source": [
    "data_matrix"
   ]
  }
 ],
 "metadata": {
  "kernelspec": {
   "display_name": "Python 3",
   "language": "python",
   "name": "python3"
  },
  "language_info": {
   "codemirror_mode": {
    "name": "ipython",
    "version": 3
   },
   "file_extension": ".py",
   "mimetype": "text/x-python",
   "name": "python",
   "nbconvert_exporter": "python",
   "pygments_lexer": "ipython3",
   "version": "3.10.6"
  }
 },
 "nbformat": 4,
 "nbformat_minor": 2
}
